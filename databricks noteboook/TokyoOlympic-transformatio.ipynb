{
 "cells": [
  {
   "cell_type": "code",
   "execution_count": null,
   "metadata": {
    "application/vnd.databricks.v1+cell": {
     "cellMetadata": {
      "byteLimit": 2048000,
      "rowLimit": 10000
     },
     "inputWidgets": {},
     "nuid": "59cafedf-1a9c-47d3-8b1b-1bc113366e8f",
     "showTitle": false,
     "title": ""
    }
   },
   "outputs": [],
   "source": [
    "from pyspark.sql.functions import col\n",
    "from pyspark.sql.types import IntegerType, DoubleType, BooleanType, DateType\n",
    "import pandas as pd"
   ]
  },
  {
   "cell_type": "code",
   "execution_count": null,
   "metadata": {
    "application/vnd.databricks.v1+cell": {
     "cellMetadata": {
      "byteLimit": 2048000,
      "rowLimit": 10000
     },
     "inputWidgets": {},
     "nuid": "c23db699-cd4e-436f-bf57-2ef12f037af4",
     "showTitle": false,
     "title": ""
    }
   },
   "outputs": [],
   "source": [
    "# COMMAND ----------\n",
    "container_name = 'test' #replace with azure datalake container name\n",
    "account_name = 'test' #replace with azure datalake storage account name\n",
    "\n",
    "\n",
    "\n",
    "configs = {\"fs.azure.account.auth.type\": \"OAuth\",\n",
    "\"fs.azure.account.oauth.provider.type\": \"org.apache.hadoop.fs.azurebfs.oauth2.ClientCredsTokenProvider\",\n",
    "\"fs.azure.account.oauth2.client.id\": \"{client_id}\",\n",
    "\"fs.azure.account.oauth2.client.secret\": '{app_secret_id}',\n",
    "\"fs.azure.account.oauth2.client.endpoint\": \"https://login.microsoftonline.com/{tenant_id}/oauth2/token\"}\n",
    "\n",
    "dbutils.fs.mount(\n",
    "source = f\"abfss://{container_name}@{account_name}.dfs.core.windows.net\", # contrainer@storageacc\n",
    "mount_point = \"/mnt/tokyoolypmic\",\n",
    "extra_configs = configs)"
   ]
  },
  {
   "cell_type": "code",
   "execution_count": null,
   "metadata": {
    "application/vnd.databricks.v1+cell": {
     "cellMetadata": {
      "byteLimit": 2048000,
      "rowLimit": 10000
     },
     "inputWidgets": {},
     "nuid": "cc3e1600-dac2-4fc1-b80e-59a91d745ba4",
     "showTitle": false,
     "title": ""
    }
   },
   "outputs": [
    {
     "data": {
      "text/html": [
       "<style scoped>\n",
       "  .table-result-container {\n",
       "    max-height: 300px;\n",
       "    overflow: auto;\n",
       "  }\n",
       "  table, th, td {\n",
       "    border: 1px solid black;\n",
       "    border-collapse: collapse;\n",
       "  }\n",
       "  th, td {\n",
       "    padding: 5px;\n",
       "  }\n",
       "  th {\n",
       "    text-align: left;\n",
       "  }\n",
       "</style><div class='table-result-container'><table class='table-result'><thead style='background-color: white'><tr></tr></thead><tbody></tbody></table></div>"
      ]
     },
     "metadata": {
      "application/vnd.databricks.v1+output": {
       "addedWidgets": {},
       "aggData": [],
       "aggError": "",
       "aggOverflow": false,
       "aggSchema": [],
       "aggSeriesLimitReached": false,
       "aggType": "",
       "arguments": {},
       "columnCustomDisplayInfos": {},
       "data": [],
       "datasetInfos": [],
       "dbfsResultPath": null,
       "isJsonSchema": true,
       "metadata": {
        "isDbfsCommandResult": false
       },
       "overflow": false,
       "plotOptions": {
        "customPlotOptions": {},
        "displayType": "table",
        "pivotAggregation": null,
        "pivotColumns": null,
        "xColumns": null,
        "yColumns": null
       },
       "removedWidgets": [],
       "schema": [],
       "type": "table"
      }
     },
     "output_type": "display_data"
    }
   ],
   "source": [
    "%fs\n",
    "ls \"/mnt/tokyoolypmic/transformed_data/csv_files\""
   ]
  },
  {
   "cell_type": "code",
   "execution_count": null,
   "metadata": {
    "application/vnd.databricks.v1+cell": {
     "cellMetadata": {
      "byteLimit": 2048000,
      "rowLimit": 10000
     },
     "inputWidgets": {},
     "nuid": "76c0c979-05c7-4475-9782-45ba2019655b",
     "showTitle": false,
     "title": ""
    }
   },
   "outputs": [],
   "source": [
    "athletes = spark.read.format('csv').option('header','true').load('/mnt/tokyoolypmic/raw_data/Athletes.csv')\n",
    "Coaches = spark.read.format('csv').option('header','true').load('/mnt/tokyoolypmic/raw_data/Coaches.csv')\n",
    "EntriesGender = spark.read.format('csv').option('header','true').option(\"inferSchema\",\"true\").load('/mnt/tokyoolypmic/raw_data/EntriesGender.csv')\n",
    "Medals = spark.read.format('csv').option('header','true').option(\"inferSchema\",\"true\").load('/mnt/tokyoolypmic/raw_data/Medals.csv')\n",
    "Teams = spark.read.format('csv').option('header','true').option(\"inferSchema\",\"true\").load('/mnt/tokyoolypmic/raw_data/Teams.csv')"
   ]
  },
  {
   "cell_type": "code",
   "execution_count": null,
   "metadata": {
    "application/vnd.databricks.v1+cell": {
     "cellMetadata": {
      "byteLimit": 2048000,
      "rowLimit": 10000
     },
     "inputWidgets": {},
     "nuid": "8faa70c5-28f6-4673-ac76-0a2595d9e957",
     "showTitle": false,
     "title": ""
    }
   },
   "outputs": [
    {
     "name": "stdout",
     "output_type": "stream",
     "text": [
      "root\n",
      " |-- Name: string (nullable = true)\n",
      " |-- Country: string (nullable = true)\n",
      " |-- Discipline: string (nullable = true)\n",
      " |-- Event: string (nullable = true)\n",
      "\n"
     ]
    }
   ],
   "source": [
    "Coaches.printSchema()"
   ]
  },
  {
   "cell_type": "code",
   "execution_count": null,
   "metadata": {
    "application/vnd.databricks.v1+cell": {
     "cellMetadata": {
      "byteLimit": 2048000,
      "rowLimit": 10000
     },
     "inputWidgets": {},
     "nuid": "7efb68d8-7dc2-41cd-953a-ee2a545a492a",
     "showTitle": false,
     "title": ""
    }
   },
   "outputs": [
    {
     "data": {
      "text/html": [
       "<style scoped>\n",
       "  .table-result-container {\n",
       "    max-height: 300px;\n",
       "    overflow: auto;\n",
       "  }\n",
       "  table, th, td {\n",
       "    border: 1px solid black;\n",
       "    border-collapse: collapse;\n",
       "  }\n",
       "  th, td {\n",
       "    padding: 5px;\n",
       "  }\n",
       "  th {\n",
       "    text-align: left;\n",
       "  }\n",
       "</style><div class='table-result-container'><table class='table-result'><thead style='background-color: white'><tr><th>Discipline</th><th>Female</th><th>Male</th><th>Total</th></tr></thead><tbody><tr><td>3x3 Basketball</td><td>32</td><td>32</td><td>64</td></tr><tr><td>Archery</td><td>64</td><td>64</td><td>128</td></tr><tr><td>Artistic Gymnastics</td><td>98</td><td>98</td><td>196</td></tr><tr><td>Artistic Swimming</td><td>105</td><td>0</td><td>105</td></tr><tr><td>Athletics</td><td>969</td><td>1072</td><td>2041</td></tr><tr><td>Badminton</td><td>86</td><td>87</td><td>173</td></tr><tr><td>Baseball/Softball</td><td>90</td><td>144</td><td>234</td></tr><tr><td>Basketball</td><td>144</td><td>144</td><td>288</td></tr><tr><td>Beach Volleyball</td><td>48</td><td>48</td><td>96</td></tr><tr><td>Boxing</td><td>102</td><td>187</td><td>289</td></tr><tr><td>Canoe Slalom</td><td>41</td><td>41</td><td>82</td></tr><tr><td>Canoe Sprint</td><td>123</td><td>126</td><td>249</td></tr><tr><td>Cycling BMX Freestyle</td><td>10</td><td>9</td><td>19</td></tr><tr><td>Cycling BMX Racing</td><td>24</td><td>24</td><td>48</td></tr><tr><td>Cycling Mountain Bike</td><td>38</td><td>38</td><td>76</td></tr><tr><td>Cycling Road</td><td>70</td><td>131</td><td>201</td></tr><tr><td>Cycling Track</td><td>90</td><td>99</td><td>189</td></tr><tr><td>Diving</td><td>72</td><td>71</td><td>143</td></tr><tr><td>Equestrian</td><td>73</td><td>125</td><td>198</td></tr><tr><td>Fencing</td><td>107</td><td>108</td><td>215</td></tr><tr><td>Football</td><td>264</td><td>344</td><td>608</td></tr><tr><td>Golf</td><td>60</td><td>60</td><td>120</td></tr><tr><td>Handball</td><td>168</td><td>168</td><td>336</td></tr><tr><td>Hockey</td><td>192</td><td>192</td><td>384</td></tr><tr><td>Judo</td><td>192</td><td>201</td><td>393</td></tr><tr><td>Karate</td><td>40</td><td>42</td><td>82</td></tr><tr><td>Marathon Swimming</td><td>25</td><td>25</td><td>50</td></tr><tr><td>Modern Pentathlon</td><td>36</td><td>36</td><td>72</td></tr><tr><td>Rhythmic Gymnastics</td><td>96</td><td>0</td><td>96</td></tr><tr><td>Rowing</td><td>257</td><td>265</td><td>522</td></tr><tr><td>Rugby Sevens</td><td>146</td><td>151</td><td>297</td></tr><tr><td>Sailing</td><td>175</td><td>175</td><td>350</td></tr><tr><td>Shooting</td><td>178</td><td>178</td><td>356</td></tr><tr><td>Skateboarding</td><td>40</td><td>40</td><td>80</td></tr><tr><td>Sport Climbing</td><td>20</td><td>20</td><td>40</td></tr><tr><td>Surfing</td><td>20</td><td>20</td><td>40</td></tr><tr><td>Swimming</td><td>361</td><td>418</td><td>779</td></tr><tr><td>Table Tennis</td><td>86</td><td>86</td><td>172</td></tr><tr><td>Taekwondo</td><td>65</td><td>65</td><td>130</td></tr><tr><td>Tennis</td><td>94</td><td>97</td><td>191</td></tr><tr><td>Trampoline Gymnastics</td><td>16</td><td>16</td><td>32</td></tr><tr><td>Triathlon</td><td>55</td><td>55</td><td>110</td></tr><tr><td>Volleyball</td><td>144</td><td>144</td><td>288</td></tr><tr><td>Water Polo</td><td>122</td><td>146</td><td>268</td></tr><tr><td>Weightlifting</td><td>98</td><td>99</td><td>197</td></tr><tr><td>Wrestling</td><td>96</td><td>193</td><td>289</td></tr></tbody></table></div>"
      ]
     },
     "metadata": {
      "application/vnd.databricks.v1+output": {
       "addedWidgets": {},
       "aggData": [],
       "aggError": "",
       "aggOverflow": false,
       "aggSchema": [],
       "aggSeriesLimitReached": false,
       "aggType": "",
       "arguments": {},
       "columnCustomDisplayInfos": {},
       "data": [
        [
         "3x3 Basketball",
         32,
         32,
         64
        ],
        [
         "Archery",
         64,
         64,
         128
        ],
        [
         "Artistic Gymnastics",
         98,
         98,
         196
        ],
        [
         "Artistic Swimming",
         105,
         0,
         105
        ],
        [
         "Athletics",
         969,
         1072,
         2041
        ],
        [
         "Badminton",
         86,
         87,
         173
        ],
        [
         "Baseball/Softball",
         90,
         144,
         234
        ],
        [
         "Basketball",
         144,
         144,
         288
        ],
        [
         "Beach Volleyball",
         48,
         48,
         96
        ],
        [
         "Boxing",
         102,
         187,
         289
        ],
        [
         "Canoe Slalom",
         41,
         41,
         82
        ],
        [
         "Canoe Sprint",
         123,
         126,
         249
        ],
        [
         "Cycling BMX Freestyle",
         10,
         9,
         19
        ],
        [
         "Cycling BMX Racing",
         24,
         24,
         48
        ],
        [
         "Cycling Mountain Bike",
         38,
         38,
         76
        ],
        [
         "Cycling Road",
         70,
         131,
         201
        ],
        [
         "Cycling Track",
         90,
         99,
         189
        ],
        [
         "Diving",
         72,
         71,
         143
        ],
        [
         "Equestrian",
         73,
         125,
         198
        ],
        [
         "Fencing",
         107,
         108,
         215
        ],
        [
         "Football",
         264,
         344,
         608
        ],
        [
         "Golf",
         60,
         60,
         120
        ],
        [
         "Handball",
         168,
         168,
         336
        ],
        [
         "Hockey",
         192,
         192,
         384
        ],
        [
         "Judo",
         192,
         201,
         393
        ],
        [
         "Karate",
         40,
         42,
         82
        ],
        [
         "Marathon Swimming",
         25,
         25,
         50
        ],
        [
         "Modern Pentathlon",
         36,
         36,
         72
        ],
        [
         "Rhythmic Gymnastics",
         96,
         0,
         96
        ],
        [
         "Rowing",
         257,
         265,
         522
        ],
        [
         "Rugby Sevens",
         146,
         151,
         297
        ],
        [
         "Sailing",
         175,
         175,
         350
        ],
        [
         "Shooting",
         178,
         178,
         356
        ],
        [
         "Skateboarding",
         40,
         40,
         80
        ],
        [
         "Sport Climbing",
         20,
         20,
         40
        ],
        [
         "Surfing",
         20,
         20,
         40
        ],
        [
         "Swimming",
         361,
         418,
         779
        ],
        [
         "Table Tennis",
         86,
         86,
         172
        ],
        [
         "Taekwondo",
         65,
         65,
         130
        ],
        [
         "Tennis",
         94,
         97,
         191
        ],
        [
         "Trampoline Gymnastics",
         16,
         16,
         32
        ],
        [
         "Triathlon",
         55,
         55,
         110
        ],
        [
         "Volleyball",
         144,
         144,
         288
        ],
        [
         "Water Polo",
         122,
         146,
         268
        ],
        [
         "Weightlifting",
         98,
         99,
         197
        ],
        [
         "Wrestling",
         96,
         193,
         289
        ]
       ],
       "datasetInfos": [],
       "dbfsResultPath": null,
       "isJsonSchema": true,
       "metadata": {},
       "overflow": false,
       "plotOptions": {
        "customPlotOptions": {},
        "displayType": "table",
        "pivotAggregation": null,
        "pivotColumns": null,
        "xColumns": null,
        "yColumns": null
       },
       "removedWidgets": [],
       "schema": [
        {
         "metadata": "{}",
         "name": "Discipline",
         "type": "\"string\""
        },
        {
         "metadata": "{}",
         "name": "Female",
         "type": "\"integer\""
        },
        {
         "metadata": "{}",
         "name": "Male",
         "type": "\"integer\""
        },
        {
         "metadata": "{}",
         "name": "Total",
         "type": "\"integer\""
        }
       ],
       "type": "table"
      }
     },
     "output_type": "display_data"
    }
   ],
   "source": [
    "EntriesGender.display()"
   ]
  },
  {
   "cell_type": "code",
   "execution_count": null,
   "metadata": {
    "application/vnd.databricks.v1+cell": {
     "cellMetadata": {
      "byteLimit": 2048000,
      "rowLimit": 10000
     },
     "inputWidgets": {},
     "nuid": "cd03cdb7-763f-4467-af3d-0a24dc9b8bff",
     "showTitle": false,
     "title": ""
    }
   },
   "outputs": [
    {
     "name": "stdout",
     "output_type": "stream",
     "text": [
      "root\n",
      " |-- Discipline: string (nullable = true)\n",
      " |-- Female: integer (nullable = true)\n",
      " |-- Male: integer (nullable = true)\n",
      " |-- Total: integer (nullable = true)\n",
      "\n"
     ]
    }
   ],
   "source": [
    "EntriesGender.printSchema()"
   ]
  },
  {
   "cell_type": "code",
   "execution_count": null,
   "metadata": {
    "application/vnd.databricks.v1+cell": {
     "cellMetadata": {
      "byteLimit": 2048000,
      "rowLimit": 10000
     },
     "inputWidgets": {},
     "nuid": "8eb6535f-9389-4583-9da3-8085280fdde4",
     "showTitle": false,
     "title": ""
    }
   },
   "outputs": [],
   "source": [
    "EntriesGender = EntriesGender.withColumn(\"Female\",col(\"Female\").cast(IntegerType()))\n",
    "EntriesGender = EntriesGender.withColumn(\"Male\",col(\"Male\").cast(IntegerType()))\n",
    "EntriesGender = EntriesGender.withColumn(\"Total\",col(\"Total\").cast(IntegerType()))\n"
   ]
  },
  {
   "cell_type": "code",
   "execution_count": null,
   "metadata": {
    "application/vnd.databricks.v1+cell": {
     "cellMetadata": {
      "byteLimit": 2048000,
      "rowLimit": 10000
     },
     "inputWidgets": {},
     "nuid": "c869bce9-c738-4c69-a3b3-3e3bfcc5aaf4",
     "showTitle": false,
     "title": ""
    }
   },
   "outputs": [
    {
     "name": "stdout",
     "output_type": "stream",
     "text": [
      "root\n",
      " |-- Discipline: string (nullable = true)\n",
      " |-- Female: integer (nullable = true)\n",
      " |-- Male: integer (nullable = true)\n",
      " |-- Total: integer (nullable = true)\n",
      "\n"
     ]
    }
   ],
   "source": [
    "EntriesGender.printSchema()"
   ]
  },
  {
   "cell_type": "code",
   "execution_count": null,
   "metadata": {
    "application/vnd.databricks.v1+cell": {
     "cellMetadata": {
      "byteLimit": 2048000,
      "rowLimit": 10000
     },
     "inputWidgets": {},
     "nuid": "4b68f5f6-8a6a-420f-b3fa-3c88a28c1345",
     "showTitle": false,
     "title": ""
    }
   },
   "outputs": [
    {
     "name": "stdout",
     "output_type": "stream",
     "text": [
      "root\n",
      " |-- Rank: integer (nullable = true)\n",
      " |-- Team_Country: string (nullable = true)\n",
      " |-- Gold: integer (nullable = true)\n",
      " |-- Silver: integer (nullable = true)\n",
      " |-- Bronze: integer (nullable = true)\n",
      " |-- Total: integer (nullable = true)\n",
      " |-- Rank by Total: integer (nullable = true)\n",
      "\n"
     ]
    }
   ],
   "source": [
    "Medals.printSchema()"
   ]
  },
  {
   "cell_type": "code",
   "execution_count": null,
   "metadata": {
    "application/vnd.databricks.v1+cell": {
     "cellMetadata": {
      "byteLimit": 2048000,
      "rowLimit": 10000
     },
     "inputWidgets": {},
     "nuid": "1c207984-4d50-4a9d-9949-3f2c448da115",
     "showTitle": false,
     "title": ""
    }
   },
   "outputs": [
    {
     "name": "stdout",
     "output_type": "stream",
     "text": [
      "+----+--------------------+----+------+------+-----+-------------+\n",
      "|Rank|        Team_Country|Gold|Silver|Bronze|Total|Rank by Total|\n",
      "+----+--------------------+----+------+------+-----+-------------+\n",
      "|   1|United States of ...|  39|    41|    33|  113|            1|\n",
      "|   2|People's Republic...|  38|    32|    18|   88|            2|\n",
      "|   3|               Japan|  27|    14|    17|   58|            5|\n",
      "|   4|       Great Britain|  22|    21|    22|   65|            4|\n",
      "|   5|                 ROC|  20|    28|    23|   71|            3|\n",
      "|   6|           Australia|  17|     7|    22|   46|            6|\n",
      "|   7|         Netherlands|  10|    12|    14|   36|            9|\n",
      "|   8|              France|  10|    12|    11|   33|           10|\n",
      "|   9|             Germany|  10|    11|    16|   37|            8|\n",
      "|  10|               Italy|  10|    10|    20|   40|            7|\n",
      "|  11|              Canada|   7|     6|    11|   24|           11|\n",
      "|  12|              Brazil|   7|     6|     8|   21|           12|\n",
      "|  13|         New Zealand|   7|     6|     7|   20|           13|\n",
      "|  14|                Cuba|   7|     3|     5|   15|           18|\n",
      "|  15|             Hungary|   6|     7|     7|   20|           13|\n",
      "|  16|   Republic of Korea|   6|     4|    10|   20|           13|\n",
      "|  17|              Poland|   4|     5|     5|   14|           19|\n",
      "|  18|      Czech Republic|   4|     4|     3|   11|           23|\n",
      "|  19|               Kenya|   4|     4|     2|   10|           25|\n",
      "|  20|              Norway|   4|     2|     2|    8|           29|\n",
      "+----+--------------------+----+------+------+-----+-------------+\n",
      "only showing top 20 rows\n",
      "\n"
     ]
    }
   ],
   "source": [
    "Medals.show()"
   ]
  },
  {
   "cell_type": "code",
   "execution_count": null,
   "metadata": {
    "application/vnd.databricks.v1+cell": {
     "cellMetadata": {
      "byteLimit": 2048000,
      "rowLimit": 10000
     },
     "inputWidgets": {},
     "nuid": "3218a5c9-7080-4180-bf0f-d4ef77cc1f20",
     "showTitle": false,
     "title": ""
    }
   },
   "outputs": [
    {
     "name": "stdout",
     "output_type": "stream",
     "text": [
      "+--------------------+----+\n",
      "|        Team_Country|Gold|\n",
      "+--------------------+----+\n",
      "|United States of ...|  39|\n",
      "|People's Republic...|  38|\n",
      "|               Japan|  27|\n",
      "|       Great Britain|  22|\n",
      "|                 ROC|  20|\n",
      "+--------------------+----+\n",
      "only showing top 5 rows\n",
      "\n"
     ]
    }
   ],
   "source": [
    "Medals.select('Team_Country','Gold').orderBy('Gold',ascending=False).show(5)"
   ]
  },
  {
   "cell_type": "code",
   "execution_count": null,
   "metadata": {
    "application/vnd.databricks.v1+cell": {
     "cellMetadata": {
      "byteLimit": 2048000,
      "rowLimit": 10000
     },
     "inputWidgets": {},
     "nuid": "cf963419-5dd1-428c-b62d-db84d823ef7b",
     "showTitle": false,
     "title": ""
    }
   },
   "outputs": [],
   "source": [
    "# write files to datalake\n",
    "\n",
    "Coaches.repartition(1).write.mode(\"overwrite\").option(\"header\",\"true\").csv(\"/mnt/tokyoolypmic/transformed_data/coaches\")\n",
    "EntriesGender.repartition(1).write.mode(\"overwrite\").option(\"header\",\"true\").csv(\"mnt/tokyoolypmic/transformed_data/entriesgender\")\n",
    "Medals.repartition(1).write.mode(\"overwrite\").option(\"header\",\"true\").csv(\"mnt/tokyoolypmic/transformed_data/medals\")\n",
    "Teams.repartition(1).write.mode(\"overwrite\").option(\"header\",\"true\").csv(\"mnt/tokyoolypmic/transformed_data/teams\")\n",
    "athletes.repartition(1).write.mode(\"overwrite\").option(\"header\",\"true\").csv(\"mnt/tokyoolypmic/transformed_data/athletes\")"
   ]
  },
  {
   "cell_type": "code",
   "execution_count": null,
   "metadata": {
    "application/vnd.databricks.v1+cell": {
     "cellMetadata": {
      "byteLimit": 2048000,
      "rowLimit": 10000
     },
     "inputWidgets": {},
     "nuid": "ee9d4d02-e317-4ffd-b3ae-fae6af6395bf",
     "showTitle": false,
     "title": ""
    }
   },
   "outputs": [
    {
     "name": "stdout",
     "output_type": "stream",
     "text": [
      "root\n",
      " |-- PersonName: string (nullable = true)\n",
      " |-- Country: string (nullable = true)\n",
      " |-- Discipline: string (nullable = true)\n",
      "\n"
     ]
    }
   ],
   "source": [
    "athletes.printSchema()"
   ]
  },
  {
   "cell_type": "code",
   "execution_count": null,
   "metadata": {
    "application/vnd.databricks.v1+cell": {
     "cellMetadata": {},
     "inputWidgets": {},
     "nuid": "31c5fe64-0683-454c-be2b-cc0dcd8a3c68",
     "showTitle": false,
     "title": ""
    }
   },
   "outputs": [],
   "source": []
  }
 ],
 "metadata": {
  "application/vnd.databricks.v1+notebook": {
   "dashboards": [],
   "language": "python",
   "notebookMetadata": {
    "mostRecentlyExecutedCommandWithImplicitDF": {
     "commandId": 3244282236343806,
     "dataframes": [
      "_sqldf"
     ]
    },
    "pythonIndentUnit": 4
   },
   "notebookName": "TokyoOlympic-transformatio",
   "widgets": {}
  },
  "kernelspec": {
   "display_name": "Python 3.9.6 64-bit",
   "language": "python",
   "name": "python3"
  },
  "language_info": {
   "name": "python",
   "version": "3.9.6"
  },
  "vscode": {
   "interpreter": {
    "hash": "31f2aee4e71d21fbe5cf8b01ff0e069b9275f58929596ceb00d14d90e3e16cd6"
   }
  }
 },
 "nbformat": 4,
 "nbformat_minor": 0
}
